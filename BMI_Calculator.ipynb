{
 "cells": [
  {
   "cell_type": "markdown",
   "id": "76c877a6-ec85-41ba-82bf-d269cf491068",
   "metadata": {},
   "source": [
    "# BMI Calculator"
   ]
  },
  {
   "cell_type": "code",
   "execution_count": null,
   "id": "cc3ac527-0de8-4d1d-8957-583e8a932643",
   "metadata": {},
   "outputs": [],
   "source": [
    " # BMI = weight (lb) / [height (in)]2 x 703\n"
   ]
  },
  {
   "cell_type": "code",
   "execution_count": null,
   "id": "571c0e6d-79dd-469f-9776-8e999439121c",
   "metadata": {},
   "outputs": [],
   "source": [
    "#Name, Height, Weight inputs \n",
    "Name = str(input(\"Enter your Name: \"))\n",
    "Weight = float(input(\"Enter your Weight in LB's: \"))\n",
    "Height = float(input(\"Enter your Height in Inches: \"))\n",
    "#BMI calculation\n",
    "BMI = (Weight * 703) / (Height * Height)\n",
    "print(\"Your BMI is: \", BMI)\n",
    "\n",
    "#Range for BMI Category\n",
    "if (BMI > 0 and BMI <= 18.4):\n",
    "    print(Name +\", You fall in Underweight Category\")\n",
    "elif (BMI >=18.5 and BMI <= 24.9):\n",
    "    print(Name +\", You fall in Normal Category\")\n",
    "elif (BMI >=25 and BMI <= 29.9):\n",
    "    print(Name +\", You fall in Overweight Category\")\n",
    "elif (BMI >=30 and BMI <= 34.9):\n",
    "    print(Name +\", You fall in Obese Category\")\n",
    "elif (BMI >=35 and BMI <= 39.9):\n",
    "    print(Name +\", You fall in Severly Obese Category\")\n",
    "elif (BMI > 40):\n",
    "    print(Name +\", You fall in Morbidly obese Category\")\n",
    "else:\n",
    "    print(\", Enter Valid Inputs.\")\n",
    "    "
   ]
  },
  {
   "cell_type": "code",
   "execution_count": null,
   "id": "80d2a6bb-ae51-44ce-a631-058332df34eb",
   "metadata": {},
   "outputs": [],
   "source": []
  }
 ],
 "metadata": {
  "kernelspec": {
   "display_name": "Python 3 (ipykernel)",
   "language": "python",
   "name": "python3"
  },
  "language_info": {
   "codemirror_mode": {
    "name": "ipython",
    "version": 3
   },
   "file_extension": ".py",
   "mimetype": "text/x-python",
   "name": "python",
   "nbconvert_exporter": "python",
   "pygments_lexer": "ipython3",
   "version": "3.11.7"
  }
 },
 "nbformat": 4,
 "nbformat_minor": 5
}
